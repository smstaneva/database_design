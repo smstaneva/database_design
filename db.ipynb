{
 "cells": [
  {
   "cell_type": "markdown",
   "id": "ffc8f2da-aabc-460b-9a53-52af439b255a",
   "metadata": {},
   "source": [
    "<h1 style=\"color:#31708f;text-align: center;\">Database Design</h1>"
   ]
  },
  {
   "cell_type": "markdown",
   "id": "8c04cede-6969-4d5b-8ba6-7e2b5186079f",
   "metadata": {},
   "source": [
    "<h2 style=\"color:#576675;\">Prerequisites</h2>"
   ]
  },
  {
   "cell_type": "markdown",
   "id": "71929729-02c7-46d6-be00-fa539b0698da",
   "metadata": {},
   "source": [
    "In Jupyter Notebook run shell commands with '!'."
   ]
  },
  {
   "cell_type": "markdown",
   "id": "955e628b-0514-4d06-aad8-a542dbb23281",
   "metadata": {},
   "source": [
    "<h2 style=\"color:#576675;\">Configure Git</h2>"
   ]
  },
  {
   "cell_type": "markdown",
   "id": "5b087d08-606f-48ec-88a8-6a6826d188e6",
   "metadata": {},
   "source": [
    "Configure once per machine. This creates a hidden .gitconfig file in the home directory with this data. Flag --global tells Git to use the setting for every project, in the user account, on this computer."
   ]
  },
  {
   "cell_type": "code",
   "execution_count": null,
   "id": "1d758161-7e92-4df8-a9b5-9ffa64444e6a",
   "metadata": {},
   "outputs": [],
   "source": [
    "!git config -h       #access the list of commands"
   ]
  },
  {
   "cell_type": "code",
   "execution_count": null,
   "id": "cac25469-0016-4b07-aeff-24e4e1fd8197",
   "metadata": {},
   "outputs": [],
   "source": [
    "!git config --global user.name \"Svetlana Staneva\"       #configure name\n",
    "!git config --global user.email \"smstaneva@gmail.com\"   #configure email\n",
    "!git config --global color.ui \"auto\"                    #configure output color"
   ]
  },
  {
   "cell_type": "code",
   "execution_count": null,
   "id": "45371622-e90d-45ac-ae8c-4caa6ad9f83b",
   "metadata": {},
   "outputs": [],
   "source": [
    "!git config --list       #verify global Git configuration"
   ]
  },
  {
   "cell_type": "code",
   "execution_count": null,
   "id": "3441141d-8b1e-422d-8c17-4a18caa461fd",
   "metadata": {},
   "outputs": [],
   "source": [
    "!git config --global --edit       #view/open .gitconfig file (run comman "
   ]
  },
  {
   "cell_type": "markdown",
   "id": "00ba4b45-3245-4a43-84e0-092fc1dfed11",
   "metadata": {},
   "source": [
    "<h2 style=\"color:#576675;\">Create Repository</h2>"
   ]
  },
  {
   "cell_type": "code",
   "execution_count": null,
   "id": "f52c66bb-699e-40e6-9932-3ec1b2eeab2b",
   "metadata": {},
   "outputs": [],
   "source": [
    "!git clone https://github.com/smstaneva/database_design.git"
   ]
  },
  {
   "cell_type": "code",
   "execution_count": null,
   "id": "c1cbf984-a9ab-48b3-a81c-bec1e0b7b669",
   "metadata": {},
   "outputs": [],
   "source": [
    "cd Desktop/database_design"
   ]
  },
  {
   "cell_type": "markdown",
   "id": "6a406e8a-8c04-49ed-a129-ccd2edd79fc4",
   "metadata": {},
   "source": [
    "Git stores information about the project in .git. If we ever delete it, we will lose the project's history."
   ]
  },
  {
   "cell_type": "code",
   "execution_count": null,
   "id": "8e59d0bd-3830-42f7-8bfa-c2b408e0754e",
   "metadata": {},
   "outputs": [],
   "source": [
    "!ls -a       #verify .git creation; list all files, incl. hidden"
   ]
  },
  {
   "cell_type": "code",
   "execution_count": null,
   "id": "1c465fbd-c616-4e5c-93a6-dc6ee335128f",
   "metadata": {},
   "outputs": [],
   "source": [
    "!git status       #verify that everything is set up correctly (On branch main...Your branch is up-to-date with 'origin/main')"
   ]
  },
  {
   "cell_type": "markdown",
   "id": "eb1b95c7-4d50-43e8-b32e-37076090fb02",
   "metadata": {},
   "source": [
    "<h2 style=\"color:#576675;\">Create Environment</h2>"
   ]
  },
  {
   "cell_type": "code",
   "execution_count": null,
   "id": "843591af-860f-418a-a6f0-123836ae0d29",
   "metadata": {},
   "outputs": [],
   "source": [
    "!conda create -n dbenv python       #create conda environment    "
   ]
  },
  {
   "cell_type": "code",
   "execution_count": null,
   "id": "6941a47d-9a73-44c8-a4cc-1af6a9a8f646",
   "metadata": {},
   "outputs": [],
   "source": [
    "!conda env list       #verify environment was created"
   ]
  },
  {
   "cell_type": "code",
   "execution_count": null,
   "id": "e624315f-528f-4b60-935d-f7ee91170a3a",
   "metadata": {},
   "outputs": [],
   "source": [
    "!conda activate dbenv       #activate environment      "
   ]
  },
  {
   "cell_type": "code",
   "execution_count": null,
   "id": "c6015c72-b25f-4262-b475-7965a34c34c1",
   "metadata": {},
   "outputs": [],
   "source": [
    "!pip install notebook       #install Jupyter Notebook in the environment"
   ]
  },
  {
   "cell_type": "code",
   "execution_count": null,
   "id": "6824b5ba-73f9-48f8-9092-3c370b548fc2",
   "metadata": {},
   "outputs": [],
   "source": [
    "cd Desktop/database_design"
   ]
  },
  {
   "cell_type": "code",
   "execution_count": null,
   "id": "0bfd417f-6b81-492e-bb3a-fe5024c17396",
   "metadata": {},
   "outputs": [],
   "source": [
    "!jupyter notebook       #verify jupyter notebook was installed fine"
   ]
  }
 ],
 "metadata": {
  "kernelspec": {
   "display_name": "Python 3 (ipykernel)",
   "language": "python",
   "name": "python3"
  },
  "language_info": {
   "codemirror_mode": {
    "name": "ipython",
    "version": 3
   },
   "file_extension": ".py",
   "mimetype": "text/x-python",
   "name": "python",
   "nbconvert_exporter": "python",
   "pygments_lexer": "ipython3",
   "version": "3.13.2"
  }
 },
 "nbformat": 4,
 "nbformat_minor": 5
}
