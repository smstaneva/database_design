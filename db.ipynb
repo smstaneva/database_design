{
 "cells": [
  {
   "cell_type": "markdown",
   "id": "ffc8f2da-aabc-460b-9a53-52af439b255a",
   "metadata": {},
   "source": [
    "<h1 style=\"color:#31708f;text-align: center;\">Database Design</h1>"
   ]
  },
  {
   "cell_type": "markdown",
   "id": "8c04cede-6969-4d5b-8ba6-7e2b5186079f",
   "metadata": {},
   "source": [
    "<h2 style=\"color:#576675;\">Reference</h2>"
   ]
  },
  {
   "cell_type": "markdown",
   "id": "71929729-02c7-46d6-be00-fa539b0698da",
   "metadata": {},
   "source": [
    "In Jupyter Notebook run shell commands with '!'."
   ]
  },
  {
   "cell_type": "markdown",
   "id": "955e628b-0514-4d06-aad8-a542dbb23281",
   "metadata": {},
   "source": [
    "<h2 style=\"color:#576675;\">Configure Git</h2>"
   ]
  },
  {
   "cell_type": "markdown",
   "id": "5b087d08-606f-48ec-88a8-6a6826d188e6",
   "metadata": {},
   "source": [
    "Configure once per machine. This creates a hidden .gitconfig file in the home directory with this data. Flag --global tells Git to use the setting for every project, in the user account, on this computer."
   ]
  },
  {
   "cell_type": "code",
   "execution_count": null,
   "id": "1d758161-7e92-4df8-a9b5-9ffa64444e6a",
   "metadata": {},
   "outputs": [],
   "source": [
    "!git config -h       #access the list of commands"
   ]
  },
  {
   "cell_type": "code",
   "execution_count": null,
   "id": "cac25469-0016-4b07-aeff-24e4e1fd8197",
   "metadata": {},
   "outputs": [],
   "source": [
    "!git config --global user.name \"Svetlana Staneva\"       #configure name\n",
    "!git config --global user.email \"smstaneva@gmail.com\"   #configure email\n",
    "!git config --global color.ui \"auto\"                    #configure output color"
   ]
  },
  {
   "cell_type": "code",
   "execution_count": null,
   "id": "45371622-e90d-45ac-ae8c-4caa6ad9f83b",
   "metadata": {},
   "outputs": [],
   "source": [
    "!git config --list       #verify global Git configuration"
   ]
  },
  {
   "cell_type": "code",
   "execution_count": null,
   "id": "3441141d-8b1e-422d-8c17-4a18caa461fd",
   "metadata": {},
   "outputs": [],
   "source": [
    "!git config --global --edit       #view/open .gitconfig file (run comman "
   ]
  }
 ],
 "metadata": {
  "kernelspec": {
   "display_name": "Python 3 (ipykernel)",
   "language": "python",
   "name": "python3"
  },
  "language_info": {
   "codemirror_mode": {
    "name": "ipython",
    "version": 3
   },
   "file_extension": ".py",
   "mimetype": "text/x-python",
   "name": "python",
   "nbconvert_exporter": "python",
   "pygments_lexer": "ipython3",
   "version": "3.13.2"
  }
 },
 "nbformat": 4,
 "nbformat_minor": 5
}
